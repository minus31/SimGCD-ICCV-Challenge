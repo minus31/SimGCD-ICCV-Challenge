{
 "cells": [
  {
   "cell_type": "code",
   "execution_count": 2,
   "id": "2c67f76e-6398-4dfe-88f6-73bf99942188",
   "metadata": {},
   "outputs": [],
   "source": [
    "import os \n",
    "import sys \n",
    "sys.path.append(\"..\")\n",
    "import argparse\n",
    "\n",
    "import random\n",
    "import math\n",
    "import numpy as np\n",
    "import torch\n",
    "import torch.nn as nn\n",
    "from torch.optim import SGD, lr_scheduler, AdamW\n",
    "from torch.utils.data import DataLoader\n",
    "from tqdm import tqdm\n",
    "\n",
    "from data.augmentations import get_transform\n",
    "from data.get_datasets import get_datasets, get_class_splits\n",
    "\n",
    "# import SSB\n",
    "# from SSB.get_datasets.get_gcd_datasets_funcs import get_gcd_datasets\n",
    "# from SSB.utils import load_class_splits\n",
    "\n",
    "from util.general_utils import AverageMeter, init_experiment\n",
    "from util.cluster_and_log_utils import log_accs_from_preds\n",
    "from config import exp_root\n",
    "from model import DINOHead, info_nce_logits, SupConLoss, DistillLoss, ContrastiveLearningViewGenerator, get_params_groups, CustomDINOHead\n",
    "\n",
    "from pytorch_metric_learning import losses"
   ]
  },
  {
   "cell_type": "code",
   "execution_count": 20,
   "id": "88ac8de6-0bef-435f-9b63-872d517f5e63",
   "metadata": {},
   "outputs": [
    {
     "name": "stderr",
     "output_type": "stream",
     "text": [
      "Using cache found in /root/.cache/torch/hub/facebookresearch_dinov2_main\n"
     ]
    }
   ],
   "source": [
    "# backbone = torch.hub.load('facebookresearch/dino:main', 'dino_xcit_medium_24_p8')\n",
    "backbone = torch.hub.load('facebookresearch/dinov2', 'dinov2_vitb14')"
   ]
  },
  {
   "cell_type": "code",
   "execution_count": 21,
   "id": "9c3b98a2",
   "metadata": {
    "scrolled": true
   },
   "outputs": [],
   "source": [
    "# !pip install ptflops\n"
   ]
  },
  {
   "cell_type": "code",
   "execution_count": 22,
   "id": "8875877e-8c18-44bc-818c-eab6e5b22823",
   "metadata": {},
   "outputs": [],
   "source": [
    "head_type = None #\"custom\"\n",
    "# feat_dim = 512\n",
    "feat_dim = 768\n",
    "# mlp_out_dim = 200 \n",
    "# mlp_out_dim = 196\n",
    "mlp_out_dim = 100\n",
    "num_mlp_layers = 3\n",
    "\n",
    "if head_type == \"custom\":\n",
    "    projector = CustomDINOHead(in_dim=feat_dim, out_dim=mlp_out_dim, nlayers=num_mlp_layers)\n",
    "else: \n",
    "    projector = DINOHead(in_dim=feat_dim, out_dim=mlp_out_dim, nlayers=num_mlp_layers)\n",
    "    \n",
    "model = nn.Sequential(backbone, projector)"
   ]
  },
  {
   "cell_type": "code",
   "execution_count": 23,
   "id": "671817a9-28e7-4595-9bb2-eccb893fad89",
   "metadata": {},
   "outputs": [
    {
     "name": "stdout",
     "output_type": "stream",
     "text": [
      "Warning: module Identity is treated as a zero-op.\n",
      "Warning: module PatchEmbed is treated as a zero-op.\n",
      "Warning: module Dropout is treated as a zero-op.\n",
      "Warning: module MemEffAttention is treated as a zero-op.\n",
      "Warning: module LayerScale is treated as a zero-op.\n",
      "Warning: module Mlp is treated as a zero-op.\n",
      "Warning: module NestedTensorBlock is treated as a zero-op.\n",
      "Warning: module DinoVisionTransformer is treated as a zero-op.\n",
      "Warning: module DINOHead is treated as a zero-op.\n",
      "Sequential(\n",
      "  91.88 M, 98.847% Params, 21.96 GMac, 100.000% MACs, \n",
      "  (0): DinoVisionTransformer(\n",
      "    85.51 M, 91.991% Params, 21.96 GMac, 99.971% MACs, \n",
      "    (patch_embed): PatchEmbed(\n",
      "      452.35 k, 0.487% Params, 115.8 MMac, 0.527% MACs, \n",
      "      (proj): Conv2d(452.35 k, 0.487% Params, 115.8 MMac, 0.527% MACs, 3, 768, kernel_size=(14, 14), stride=(14, 14))\n",
      "      (norm): Identity(0, 0.000% Params, 0.0 Mac, 0.000% MACs, )\n",
      "    )\n",
      "    (blocks): ModuleList(\n",
      "      (0-11): 12 x NestedTensorBlock(\n",
      "        7.09 M, 7.625% Params, 1.82 GMac, 8.287% MACs, \n",
      "        (norm1): LayerNorm(1.54 k, 0.002% Params, 197.38 KMac, 0.001% MACs, (768,), eps=1e-06, elementwise_affine=True)\n",
      "        (attn): MemEffAttention(\n",
      "          2.36 M, 2.541% Params, 606.34 MMac, 2.761% MACs, \n",
      "          (qkv): Linear(1.77 M, 1.906% Params, 454.76 MMac, 2.070% MACs, in_features=768, out_features=2304, bias=True)\n",
      "          (attn_drop): Dropout(0, 0.000% Params, 0.0 Mac, 0.000% MACs, p=0.0, inplace=False)\n",
      "          (proj): Linear(590.59 k, 0.635% Params, 151.59 MMac, 0.690% MACs, in_features=768, out_features=768, bias=True)\n",
      "          (proj_drop): Dropout(0, 0.000% Params, 0.0 Mac, 0.000% MACs, p=0.0, inplace=False)\n",
      "        )\n",
      "        (ls1): LayerScale(0, 0.000% Params, 0.0 Mac, 0.000% MACs, )\n",
      "        (drop_path1): Identity(0, 0.000% Params, 0.0 Mac, 0.000% MACs, )\n",
      "        (norm2): LayerNorm(1.54 k, 0.002% Params, 197.38 KMac, 0.001% MACs, (768,), eps=1e-06, elementwise_affine=True)\n",
      "        (mlp): Mlp(\n",
      "          4.72 M, 5.080% Params, 1.21 GMac, 5.525% MACs, \n",
      "          (fc1): Linear(2.36 M, 2.541% Params, 606.34 MMac, 2.761% MACs, in_features=768, out_features=3072, bias=True)\n",
      "          (act): GELU(0, 0.000% Params, 789.5 KMac, 0.004% MACs, approximate='none')\n",
      "          (fc2): Linear(2.36 M, 2.539% Params, 606.34 MMac, 2.760% MACs, in_features=3072, out_features=768, bias=True)\n",
      "          (drop): Dropout(0, 0.000% Params, 0.0 Mac, 0.000% MACs, p=0.0, inplace=False)\n",
      "        )\n",
      "        (ls2): LayerScale(0, 0.000% Params, 0.0 Mac, 0.000% MACs, )\n",
      "        (drop_path2): Identity(0, 0.000% Params, 0.0 Mac, 0.000% MACs, )\n",
      "      )\n",
      "    )\n",
      "    (norm): LayerNorm(1.54 k, 0.002% Params, 197.38 KMac, 0.001% MACs, (768,), eps=1e-06, elementwise_affine=True)\n",
      "    (head): Identity(0, 0.000% Params, 0.0 Mac, 0.000% MACs, )\n",
      "  )\n",
      "  (1): DINOHead(\n",
      "    6.37 M, 6.856% Params, 6.38 MMac, 0.029% MACs, \n",
      "    (mlp): Sequential(\n",
      "      6.3 M, 6.773% Params, 6.3 MMac, 0.029% MACs, \n",
      "      (0): Linear(1.57 M, 1.694% Params, 1.57 MMac, 0.007% MACs, in_features=768, out_features=2048, bias=True)\n",
      "      (1): GELU(0, 0.000% Params, 2.05 KMac, 0.000% MACs, approximate='none')\n",
      "      (2): Linear(4.2 M, 4.514% Params, 4.2 MMac, 0.019% MACs, in_features=2048, out_features=2048, bias=True)\n",
      "      (3): GELU(0, 0.000% Params, 2.05 KMac, 0.000% MACs, approximate='none')\n",
      "      (4): Linear(524.54 k, 0.564% Params, 524.54 KMac, 0.002% MACs, in_features=2048, out_features=256, bias=True)\n",
      "    )\n",
      "    (last_layer): Linear(76.8 k, 0.083% Params, 76.8 KMac, 0.000% MACs, in_features=768, out_features=100, bias=False)\n",
      "  )\n",
      ")\n",
      "Computational complexity:       21.96 GMac\n",
      "Number of parameters:           92.95 M \n"
     ]
    }
   ],
   "source": [
    "from ptflops import get_model_complexity_info\n",
    "\n",
    "macs, params = get_model_complexity_info(model, (3, 224, 224), as_strings=True,print_per_layer_stat=True, verbose=True)\n",
    "print('{:<30}  {:<8}'.format('Computational complexity: ', macs))\n",
    "print('{:<30}  {:<8}'.format('Number of parameters: ', params))"
   ]
  },
  {
   "cell_type": "code",
   "execution_count": 15,
   "id": "158be378",
   "metadata": {},
   "outputs": [
    {
     "data": {
      "text/plain": [
       "43.92"
      ]
     },
     "execution_count": 15,
     "metadata": {},
     "output_type": "execute_result"
    }
   ],
   "source": [
    "21.96 * 2"
   ]
  },
  {
   "cell_type": "code",
   "execution_count": 24,
   "id": "a805c823",
   "metadata": {},
   "outputs": [
    {
     "name": "stdout",
     "output_type": "stream",
     "text": [
      "50 ms ± 91.7 µs per loop (mean ± std. dev. of 7 runs, 10 loops each)\n"
     ]
    }
   ],
   "source": [
    "%%timeit\n",
    "model(torch.randn(1, 3, 224, 224))"
   ]
  },
  {
   "cell_type": "code",
   "execution_count": 25,
   "id": "cc8e3676",
   "metadata": {},
   "outputs": [
    {
     "ename": "SyntaxError",
     "evalue": "invalid syntax (989647429.py, line 1)",
     "output_type": "error",
     "traceback": [
      "\u001b[0;36m  Cell \u001b[0;32mIn[25], line 1\u001b[0;36m\u001b[0m\n\u001b[0;31m    208 ms\u001b[0m\n\u001b[0m        ^\u001b[0m\n\u001b[0;31mSyntaxError\u001b[0m\u001b[0;31m:\u001b[0m invalid syntax\n"
     ]
    }
   ],
   "source": [
    "208 ms\n",
    "50 ms"
   ]
  },
  {
   "cell_type": "code",
   "execution_count": null,
   "id": "efef52ab",
   "metadata": {},
   "outputs": [],
   "source": [
    "50 ms"
   ]
  }
 ],
 "metadata": {
  "kernelspec": {
   "display_name": "Python 3 (ipykernel)",
   "language": "python",
   "name": "python3"
  },
  "language_info": {
   "codemirror_mode": {
    "name": "ipython",
    "version": 3
   },
   "file_extension": ".py",
   "mimetype": "text/x-python",
   "name": "python",
   "nbconvert_exporter": "python",
   "pygments_lexer": "ipython3",
   "version": "3.10.4"
  }
 },
 "nbformat": 4,
 "nbformat_minor": 5
}
