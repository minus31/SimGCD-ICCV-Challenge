{
 "cells": [
  {
   "cell_type": "code",
   "execution_count": 1,
   "id": "bb8b39b4",
   "metadata": {},
   "outputs": [],
   "source": [
    "# Datasets \n",
    "#     - Cluster allocation\n",
    "#     - transforms\n",
    " \n",
    "\n",
    "# Model loaded \n"
   ]
  },
  {
   "cell_type": "code",
   "execution_count": 13,
   "id": "84484b79",
   "metadata": {},
   "outputs": [],
   "source": [
    "import pandas as pd"
   ]
  },
  {
   "cell_type": "code",
   "execution_count": 29,
   "id": "13e52161",
   "metadata": {},
   "outputs": [
    {
     "data": {
      "text/plain": [
       "5794"
      ]
     },
     "execution_count": 29,
     "metadata": {},
     "output_type": "execute_result"
    }
   ],
   "source": [
    "\n",
    "test_dataset.__len__()"
   ]
  },
  {
   "cell_type": "code",
   "execution_count": 30,
   "id": "82a52d93",
   "metadata": {},
   "outputs": [
    {
     "data": {
      "text/html": [
       "<div>\n",
       "<style scoped>\n",
       "    .dataframe tbody tr th:only-of-type {\n",
       "        vertical-align: middle;\n",
       "    }\n",
       "\n",
       "    .dataframe tbody tr th {\n",
       "        vertical-align: top;\n",
       "    }\n",
       "\n",
       "    .dataframe thead th {\n",
       "        text-align: right;\n",
       "    }\n",
       "</style>\n",
       "<table border=\"1\" class=\"dataframe\">\n",
       "  <thead>\n",
       "    <tr style=\"text-align: right;\">\n",
       "      <th></th>\n",
       "      <th>img</th>\n",
       "      <th>pred</th>\n",
       "    </tr>\n",
       "  </thead>\n",
       "  <tbody>\n",
       "    <tr>\n",
       "      <th>0</th>\n",
       "      <td>1025794.jpg</td>\n",
       "      <td>0</td>\n",
       "    </tr>\n",
       "    <tr>\n",
       "      <th>1</th>\n",
       "      <td>0056978.jpg</td>\n",
       "      <td>0</td>\n",
       "    </tr>\n",
       "    <tr>\n",
       "      <th>2</th>\n",
       "      <td>0698580.jpg</td>\n",
       "      <td>0</td>\n",
       "    </tr>\n",
       "    <tr>\n",
       "      <th>3</th>\n",
       "      <td>1042824.jpg</td>\n",
       "      <td>0</td>\n",
       "    </tr>\n",
       "    <tr>\n",
       "      <th>4</th>\n",
       "      <td>1427680.jpg</td>\n",
       "      <td>0</td>\n",
       "    </tr>\n",
       "    <tr>\n",
       "      <th>...</th>\n",
       "      <td>...</td>\n",
       "      <td>...</td>\n",
       "    </tr>\n",
       "    <tr>\n",
       "      <th>4996</th>\n",
       "      <td>1227260.jpg</td>\n",
       "      <td>99</td>\n",
       "    </tr>\n",
       "    <tr>\n",
       "      <th>4997</th>\n",
       "      <td>0523140.jpg</td>\n",
       "      <td>99</td>\n",
       "    </tr>\n",
       "    <tr>\n",
       "      <th>4998</th>\n",
       "      <td>1340345.jpg</td>\n",
       "      <td>99</td>\n",
       "    </tr>\n",
       "    <tr>\n",
       "      <th>4999</th>\n",
       "      <td>0765754.jpg</td>\n",
       "      <td>99</td>\n",
       "    </tr>\n",
       "    <tr>\n",
       "      <th>5000</th>\n",
       "      <td>1594714.jpg</td>\n",
       "      <td>99</td>\n",
       "    </tr>\n",
       "  </tbody>\n",
       "</table>\n",
       "<p>5001 rows × 2 columns</p>\n",
       "</div>"
      ],
      "text/plain": [
       "              img  pred\n",
       "0     1025794.jpg     0\n",
       "1     0056978.jpg     0\n",
       "2     0698580.jpg     0\n",
       "3     1042824.jpg     0\n",
       "4     1427680.jpg     0\n",
       "...           ...   ...\n",
       "4996  1227260.jpg    99\n",
       "4997  0523140.jpg    99\n",
       "4998  1340345.jpg    99\n",
       "4999  0765754.jpg    99\n",
       "5000  1594714.jpg    99\n",
       "\n",
       "[5001 rows x 2 columns]"
      ]
     },
     "execution_count": 30,
     "metadata": {},
     "output_type": "execute_result"
    }
   ],
   "source": [
    "pd.read_csv(\"../starting_k/pred_aircraft.csv\")"
   ]
  },
  {
   "cell_type": "code",
   "execution_count": 32,
   "id": "28a71f45",
   "metadata": {},
   "outputs": [
    {
     "data": {
      "text/html": [
       "<div>\n",
       "<style scoped>\n",
       "    .dataframe tbody tr th:only-of-type {\n",
       "        vertical-align: middle;\n",
       "    }\n",
       "\n",
       "    .dataframe tbody tr th {\n",
       "        vertical-align: top;\n",
       "    }\n",
       "\n",
       "    .dataframe thead th {\n",
       "        text-align: right;\n",
       "    }\n",
       "</style>\n",
       "<table border=\"1\" class=\"dataframe\">\n",
       "  <thead>\n",
       "    <tr style=\"text-align: right;\">\n",
       "      <th></th>\n",
       "      <th>img</th>\n",
       "      <th>pred</th>\n",
       "    </tr>\n",
       "  </thead>\n",
       "  <tbody>\n",
       "    <tr>\n",
       "      <th>0</th>\n",
       "      <td>00163.jpg</td>\n",
       "      <td>0</td>\n",
       "    </tr>\n",
       "    <tr>\n",
       "      <th>1</th>\n",
       "      <td>00707.jpg</td>\n",
       "      <td>0</td>\n",
       "    </tr>\n",
       "    <tr>\n",
       "      <th>2</th>\n",
       "      <td>01277.jpg</td>\n",
       "      <td>0</td>\n",
       "    </tr>\n",
       "    <tr>\n",
       "      <th>3</th>\n",
       "      <td>02050.jpg</td>\n",
       "      <td>0</td>\n",
       "    </tr>\n",
       "    <tr>\n",
       "      <th>4</th>\n",
       "      <td>02848.jpg</td>\n",
       "      <td>0</td>\n",
       "    </tr>\n",
       "    <tr>\n",
       "      <th>...</th>\n",
       "      <td>...</td>\n",
       "      <td>...</td>\n",
       "    </tr>\n",
       "    <tr>\n",
       "      <th>6139</th>\n",
       "      <td>07026.jpg</td>\n",
       "      <td>195</td>\n",
       "    </tr>\n",
       "    <tr>\n",
       "      <th>6140</th>\n",
       "      <td>07455.jpg</td>\n",
       "      <td>195</td>\n",
       "    </tr>\n",
       "    <tr>\n",
       "      <th>6141</th>\n",
       "      <td>07500.jpg</td>\n",
       "      <td>195</td>\n",
       "    </tr>\n",
       "    <tr>\n",
       "      <th>6142</th>\n",
       "      <td>07846.jpg</td>\n",
       "      <td>195</td>\n",
       "    </tr>\n",
       "    <tr>\n",
       "      <th>6143</th>\n",
       "      <td>07895.jpg</td>\n",
       "      <td>195</td>\n",
       "    </tr>\n",
       "  </tbody>\n",
       "</table>\n",
       "<p>6144 rows × 2 columns</p>\n",
       "</div>"
      ],
      "text/plain": [
       "            img  pred\n",
       "0     00163.jpg     0\n",
       "1     00707.jpg     0\n",
       "2     01277.jpg     0\n",
       "3     02050.jpg     0\n",
       "4     02848.jpg     0\n",
       "...         ...   ...\n",
       "6139  07026.jpg   195\n",
       "6140  07455.jpg   195\n",
       "6141  07500.jpg   195\n",
       "6142  07846.jpg   195\n",
       "6143  07895.jpg   195\n",
       "\n",
       "[6144 rows x 2 columns]"
      ]
     },
     "execution_count": 32,
     "metadata": {},
     "output_type": "execute_result"
    }
   ],
   "source": [
    "pd.read_csv(\"../starting_k/pred_scars.csv\")"
   ]
  },
  {
   "cell_type": "code",
   "execution_count": 28,
   "id": "5eb220af",
   "metadata": {},
   "outputs": [
    {
     "data": {
      "text/html": [
       "<div>\n",
       "<style scoped>\n",
       "    .dataframe tbody tr th:only-of-type {\n",
       "        vertical-align: middle;\n",
       "    }\n",
       "\n",
       "    .dataframe tbody tr th {\n",
       "        vertical-align: top;\n",
       "    }\n",
       "\n",
       "    .dataframe thead th {\n",
       "        text-align: right;\n",
       "    }\n",
       "</style>\n",
       "<table border=\"1\" class=\"dataframe\">\n",
       "  <thead>\n",
       "    <tr style=\"text-align: right;\">\n",
       "      <th></th>\n",
       "      <th>img</th>\n",
       "      <th>pred</th>\n",
       "    </tr>\n",
       "  </thead>\n",
       "  <tbody>\n",
       "    <tr>\n",
       "      <th>0</th>\n",
       "      <td>Black_Footed_Albatross_0009_34.jpg</td>\n",
       "      <td>0</td>\n",
       "    </tr>\n",
       "    <tr>\n",
       "      <th>1</th>\n",
       "      <td>Black_Footed_Albatross_0014_89.jpg</td>\n",
       "      <td>0</td>\n",
       "    </tr>\n",
       "    <tr>\n",
       "      <th>2</th>\n",
       "      <td>Black_Footed_Albatross_0031_100.jpg</td>\n",
       "      <td>0</td>\n",
       "    </tr>\n",
       "    <tr>\n",
       "      <th>3</th>\n",
       "      <td>Black_Footed_Albatross_0040_796066.jpg</td>\n",
       "      <td>0</td>\n",
       "    </tr>\n",
       "    <tr>\n",
       "      <th>4</th>\n",
       "      <td>Black_Footed_Albatross_0089_796069.jpg</td>\n",
       "      <td>0</td>\n",
       "    </tr>\n",
       "    <tr>\n",
       "      <th>...</th>\n",
       "      <td>...</td>\n",
       "      <td>...</td>\n",
       "    </tr>\n",
       "    <tr>\n",
       "      <th>4491</th>\n",
       "      <td>Common_Yellowthroat_0080_190663.jpg</td>\n",
       "      <td>199</td>\n",
       "    </tr>\n",
       "    <tr>\n",
       "      <th>4492</th>\n",
       "      <td>Common_Yellowthroat_0087_190414.jpg</td>\n",
       "      <td>199</td>\n",
       "    </tr>\n",
       "    <tr>\n",
       "      <th>4493</th>\n",
       "      <td>Common_Yellowthroat_0098_190430.jpg</td>\n",
       "      <td>199</td>\n",
       "    </tr>\n",
       "    <tr>\n",
       "      <th>4494</th>\n",
       "      <td>Common_Yellowthroat_0094_190690.jpg</td>\n",
       "      <td>199</td>\n",
       "    </tr>\n",
       "    <tr>\n",
       "      <th>4495</th>\n",
       "      <td>Common_Yellowthroat_0037_190698.jpg</td>\n",
       "      <td>199</td>\n",
       "    </tr>\n",
       "  </tbody>\n",
       "</table>\n",
       "<p>4496 rows × 2 columns</p>\n",
       "</div>"
      ],
      "text/plain": [
       "                                         img  pred\n",
       "0         Black_Footed_Albatross_0009_34.jpg     0\n",
       "1         Black_Footed_Albatross_0014_89.jpg     0\n",
       "2        Black_Footed_Albatross_0031_100.jpg     0\n",
       "3     Black_Footed_Albatross_0040_796066.jpg     0\n",
       "4     Black_Footed_Albatross_0089_796069.jpg     0\n",
       "...                                      ...   ...\n",
       "4491     Common_Yellowthroat_0080_190663.jpg   199\n",
       "4492     Common_Yellowthroat_0087_190414.jpg   199\n",
       "4493     Common_Yellowthroat_0098_190430.jpg   199\n",
       "4494     Common_Yellowthroat_0094_190690.jpg   199\n",
       "4495     Common_Yellowthroat_0037_190698.jpg   199\n",
       "\n",
       "[4496 rows x 2 columns]"
      ]
     },
     "execution_count": 28,
     "metadata": {},
     "output_type": "execute_result"
    }
   ],
   "source": [
    "pd.read_csv(\"../starting_k/pred_cub.csv\")"
   ]
  },
  {
   "cell_type": "code",
   "execution_count": null,
   "id": "02aa6218",
   "metadata": {},
   "outputs": [],
   "source": []
  },
  {
   "cell_type": "code",
   "execution_count": 1,
   "id": "66cfc0ca",
   "metadata": {},
   "outputs": [
    {
     "name": "stderr",
     "output_type": "stream",
     "text": [
      "/conor/SimGCD-ICCV-Challenge/SSB/SSB/utils.py:56: UserWarning: The dataset path is set to the default value. Consider setting it to a suitable path in your ~/.ssb/ssb_config.json file.\n",
      "  warnings.warn(\"The dataset path is set to the default value. \"\n"
     ]
    }
   ],
   "source": [
    "%load_ext autoreload\n",
    "%autoreload 2\n",
    "\n",
    "import os \n",
    "import sys \n",
    "sys.path.append(\"../\")\n",
    "import argparse\n",
    "\n",
    "import math\n",
    "import numpy as np\n",
    "import torch\n",
    "import torch.nn as nn\n",
    "from torch.optim import SGD, lr_scheduler\n",
    "from torch.utils.data import DataLoader\n",
    "from tqdm import tqdm\n",
    "\n",
    "from data.augmentations import get_transform\n",
    "from data.get_datasets import get_datasets, get_class_splits\n",
    "\n",
    "import SSB\n",
    "from SSB.get_datasets.get_gcd_datasets_funcs import get_gcd_datasets\n",
    "from SSB.utils import load_class_splits\n",
    "\n",
    "from util.general_utils import AverageMeter, init_experiment\n",
    "from util.cluster_and_log_utils import log_accs_from_preds\n",
    "from config import exp_root\n",
    "from model import DINOHead, info_nce_logits, SupConLoss, DistillLoss, ContrastiveLearningViewGenerator, get_params_groups\n",
    "\n",
    "\n",
    "from data.cub import get_cub_datasets"
   ]
  },
  {
   "cell_type": "code",
   "execution_count": 19,
   "id": "f33fd326",
   "metadata": {},
   "outputs": [],
   "source": [
    "from train import predict\n",
    "# gt, pred = prediction()"
   ]
  },
  {
   "cell_type": "code",
   "execution_count": 8,
   "id": "0a19d918",
   "metadata": {},
   "outputs": [],
   "source": [
    "parser = argparse.ArgumentParser(description='cluster', formatter_class=argparse.ArgumentDefaultsHelpFormatter)\n",
    "parser.add_argument('--batch_size', default=128, type=int)\n",
    "parser.add_argument('--num_workers', default=8, type=int)\n",
    "parser.add_argument('--eval_funcs', nargs='+', help='Which eval functions to use', default=['v2', 'v2p'])\n",
    "\n",
    "parser.add_argument('--warmup_model_dir', type=str, default=None)\n",
    "parser.add_argument('--dataset_name', type=str, default='scars', help='options: cifar10, cifar100, imagenet_100, cub, scars, fgvc_aricraft, herbarium_19')\n",
    "parser.add_argument('--prop_train_labels', type=float, default=0.5)\n",
    "parser.add_argument('--use_ssb_splits', action='store_true', default=True)\n",
    "\n",
    "parser.add_argument('--grad_from_block', type=int, default=11)\n",
    "parser.add_argument('--lr', type=float, default=0.1)\n",
    "parser.add_argument('--gamma', type=float, default=0.1)\n",
    "parser.add_argument('--momentum', type=float, default=0.9)\n",
    "parser.add_argument('--weight_decay', type=float, default=1e-4)\n",
    "parser.add_argument('--epochs', default=200, type=int)\n",
    "parser.add_argument('--exp_root', type=str, default=exp_root)\n",
    "parser.add_argument('--transform', type=str, default='imagenet')\n",
    "parser.add_argument('--sup_weight', type=float, default=0.35)\n",
    "parser.add_argument('--n_views', default=2, type=int)\n",
    "\n",
    "parser.add_argument('--memax_weight', type=float, default=2)\n",
    "parser.add_argument('--warmup_teacher_temp', default=0.07, type=float, help='Initial value for the teacher temperature.')\n",
    "parser.add_argument('--teacher_temp', default=0.04, type=float, help='Final value (after linear warmup)of the teacher temperature.')\n",
    "parser.add_argument('--warmup_teacher_temp_epochs', default=30, type=int, help='Number of warmup epochs for the teacher temperature.')\n",
    "\n",
    "parser.add_argument('--fp16', action='store_true', default=False)\n",
    "parser.add_argument('--print_freq', default=10, type=int)\n",
    "parser.add_argument('--exp_name', default=None, type=str)\n",
    "\n",
    "# ----------------------\n",
    "# INIT\n",
    "# ----------------------\n",
    "args = parser.parse_args(args=[])"
   ]
  },
  {
   "cell_type": "code",
   "execution_count": 23,
   "id": "2dc1c1ab",
   "metadata": {},
   "outputs": [],
   "source": [
    "args.dataset_name = \"cub\""
   ]
  },
  {
   "cell_type": "code",
   "execution_count": 24,
   "id": "398e8676",
   "metadata": {},
   "outputs": [],
   "source": [
    "device = torch.device('cuda:0')"
   ]
  },
  {
   "cell_type": "code",
   "execution_count": 25,
   "id": "1aa4bd6c",
   "metadata": {},
   "outputs": [],
   "source": [
    "if 'imagenet' in args.dataset_name:\n",
    "    args.mlp_out_dim = 1000"
   ]
  },
  {
   "cell_type": "code",
   "execution_count": 26,
   "id": "9d07d37c",
   "metadata": {},
   "outputs": [
    {
     "data": {
      "text/plain": [
       "'cub'"
      ]
     },
     "execution_count": 26,
     "metadata": {},
     "output_type": "execute_result"
    }
   ],
   "source": [
    "args.dataset_name"
   ]
  },
  {
   "cell_type": "code",
   "execution_count": 27,
   "id": "7ddf149d",
   "metadata": {},
   "outputs": [
    {
     "name": "stderr",
     "output_type": "stream",
     "text": [
      "Using cache found in /root/.cache/torch/hub/facebookresearch_dino_main\n"
     ]
    }
   ],
   "source": [
    "if 'imagenet' in args.dataset_name:\n",
    "    args.mlp_out_dim = 1000\n",
    "torch.backends.cudnn.benchmark = True\n",
    "\n",
    "# ----------------------\n",
    "# BASE MODEL\n",
    "# ----------------------\n",
    "args.interpolation = 3\n",
    "args.crop_pct = 0.875\n",
    "\n",
    "backbone = torch.hub.load('facebookresearch/dino:main', 'dino_vitb16')\n",
    "\n",
    "if args.warmup_model_dir is not None:\n",
    "    backbone.load_state_dict(torch.load(args.warmup_model_dir, map_location='cpu'))\n",
    "\n",
    "args.image_size = 224\n",
    "args.feat_dim = 768\n",
    "args.num_mlp_layers = 3\n",
    "\n",
    "class_splits = load_class_splits(args.dataset_name)\n",
    "\n",
    "args.train_classes = class_splits['known_classes']\n",
    "args.mlp_out_dim = len(class_splits['known_classes']) \\\n",
    "                 + len(class_splits['unknown_classes']['Easy']) \\\n",
    "                 + len(class_splits['unknown_classes']['Medium']) \\\n",
    "                 + len(class_splits['unknown_classes']['Hard'])\n",
    "\n",
    "# ----------------------\n",
    "# HOW MUCH OF BASE MODEL TO FINETUNE\n",
    "\n",
    "# ----------------------\n",
    "for m in backbone.parameters():\n",
    "    m.requires_grad = False\n",
    "\n",
    "# --------------------\n",
    "# CONTRASTIVE TRANSFORM\n",
    "# --------------------\n",
    "train_transform, test_transform = get_transform(args.transform, image_size=args.image_size, args=args)\n",
    "train_transform = ContrastiveLearningViewGenerator(base_transform=train_transform, n_views=args.n_views)\n",
    "# --------------------\n",
    "# DATASETS\n",
    "# --------------------\n",
    "train_dataset, test_dataset, unlabelled_train_examples_test, datasets = get_gcd_datasets(args.dataset_name, \n",
    "                                                                                        train_transform,\n",
    "                                                                                        test_transform)"
   ]
  },
  {
   "cell_type": "code",
   "execution_count": 20,
   "id": "189b69cb",
   "metadata": {},
   "outputs": [
    {
     "data": {
      "text/plain": [
       "Dataset CustomImageFolder\n",
       "    Number of datapoints: 8041\n",
       "    Root location: /conor/SimGCD-ICCV-Challenge/dataset/Stanford_Cars/car_data/car_data/test"
      ]
     },
     "execution_count": 20,
     "metadata": {},
     "output_type": "execute_result"
    }
   ],
   "source": [
    "test_dataset"
   ]
  },
  {
   "cell_type": "code",
   "execution_count": 18,
   "id": "eb0efec5",
   "metadata": {},
   "outputs": [
    {
     "ename": "NameError",
     "evalue": "name 'predict' is not defined",
     "output_type": "error",
     "traceback": [
      "\u001b[0;31m---------------------------------------------------------------------------\u001b[0m",
      "\u001b[0;31mNameError\u001b[0m                                 Traceback (most recent call last)",
      "Cell \u001b[0;32mIn[18], line 11\u001b[0m\n\u001b[1;32m      7\u001b[0m projector \u001b[38;5;241m=\u001b[39m DINOHead(in_dim\u001b[38;5;241m=\u001b[39margs\u001b[38;5;241m.\u001b[39mfeat_dim, out_dim\u001b[38;5;241m=\u001b[39margs\u001b[38;5;241m.\u001b[39mmlp_out_dim, nlayers\u001b[38;5;241m=\u001b[39margs\u001b[38;5;241m.\u001b[39mnum_mlp_layers)\n\u001b[1;32m      8\u001b[0m model \u001b[38;5;241m=\u001b[39m nn\u001b[38;5;241m.\u001b[39mSequential(backbone, projector)\u001b[38;5;241m.\u001b[39mto(device)\n\u001b[0;32m---> 11\u001b[0m \u001b[43mpredict\u001b[49m(model, train_loader, \u001b[38;5;28;01mNone\u001b[39;00m, test_loader_unlabelled, args)\n",
      "\u001b[0;31mNameError\u001b[0m: name 'predict' is not defined"
     ]
    }
   ],
   "source": [
    "test_loader_labelled = DataLoader(test_dataset, num_workers=args.num_workers,\n",
    "                                  batch_size=256, shuffle=False, pin_memory=False)\n",
    "\n",
    "# ----------------------\n",
    "# PROJECTION HEAD\n",
    "# ----------------------\n",
    "projector = DINOHead(in_dim=args.feat_dim, out_dim=args.mlp_out_dim, nlayers=args.num_mlp_layers)\n",
    "model = nn.Sequential(backbone, projector).to(device)\n",
    "\n",
    "\n",
    "predict(model, train_loader, None, test_loader_unlabelled, args)\n"
   ]
  },
  {
   "cell_type": "code",
   "execution_count": null,
   "id": "0b0a88b1",
   "metadata": {},
   "outputs": [],
   "source": []
  }
 ],
 "metadata": {
  "kernelspec": {
   "display_name": "Python 3 (ipykernel)",
   "language": "python",
   "name": "python3"
  },
  "language_info": {
   "codemirror_mode": {
    "name": "ipython",
    "version": 3
   },
   "file_extension": ".py",
   "mimetype": "text/x-python",
   "name": "python",
   "nbconvert_exporter": "python",
   "pygments_lexer": "ipython3",
   "version": "3.10.4"
  }
 },
 "nbformat": 4,
 "nbformat_minor": 5
}
