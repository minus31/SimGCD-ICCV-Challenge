{
 "cells": [
  {
   "cell_type": "code",
   "execution_count": 2,
   "id": "2a981af6",
   "metadata": {},
   "outputs": [
    {
     "name": "stderr",
     "output_type": "stream",
     "text": [
      "/conor/SimGCD-ICCV-Challenge/SSB/SSB/utils.py:55: UserWarning: The dataset path is set to the default value. Consider setting it to a suitable path in your ~/.ssb/ssb_config.json file.\n",
      "  warnings.warn(\"The dataset path is set to the default value. \"\n"
     ]
    }
   ],
   "source": [
    "import os \n",
    "import sys \n",
    "sys.path.append(\"../\")\n",
    "import argparse\n",
    "\n",
    "import random\n",
    "import math\n",
    "import numpy as np\n",
    "import torch\n",
    "import torch.nn as nn\n",
    "from torch.optim import SGD, lr_scheduler\n",
    "from torch.utils.data import DataLoader\n",
    "from tqdm import tqdm\n",
    "\n",
    "from data.augmentations import get_transform\n",
    "from data.get_datasets import get_datasets, get_class_splits\n",
    "\n",
    "import SSB\n",
    "from SSB.get_datasets.get_gcd_datasets_funcs import get_gcd_datasets\n",
    "from SSB.utils import load_class_splits\n",
    "\n",
    "from util.general_utils import AverageMeter, init_experiment\n",
    "from util.cluster_and_log_utils import log_accs_from_preds\n",
    "from config import exp_root\n",
    "from model import DINOHead, info_nce_logits, SupConLoss, DistillLoss, ContrastiveLearningViewGenerator, get_params_groups\n",
    "\n",
    "random_seed = 777\n",
    "torch.manual_seed(random_seed)\n",
    "torch.cuda.manual_seed(random_seed)\n",
    "torch.cuda.manual_seed_all(random_seed) # if use multi-GPU\n",
    "torch.backends.cudnn.deterministic = True\n",
    "torch.backends.cudnn.benchmark = False\n",
    "np.random.seed(random_seed)\n",
    "random.seed(random_seed)\n",
    "parser = argparse.ArgumentParser(description='cluster', formatter_class=argparse.ArgumentDefaultsHelpFormatter)\n",
    "parser.add_argument('--batch_size', default=128, type=int)\n",
    "parser.add_argument('--num_workers', default=8, type=int)\n",
    "parser.add_argument('--eval_funcs', nargs='+', help='Which eval functions to use', default=['v2', 'v2p'])\n",
    "\n",
    "parser.add_argument('--warmup_model_dir', type=str, default=None)\n",
    "parser.add_argument('--dataset_name', type=str, default='scars', help='options: cifar10, cifar100, imagenet_100, cub, scars, fgvc_aricraft, herbarium_19')\n",
    "parser.add_argument('--prop_train_labels', type=float, default=0.5)\n",
    "parser.add_argument('--use_ssb_splits', action='store_true', default=True)\n",
    "\n",
    "parser.add_argument('--grad_from_block', type=int, default=11)\n",
    "parser.add_argument('--lr', type=float, default=0.1)\n",
    "parser.add_argument('--gamma', type=float, default=0.1)\n",
    "parser.add_argument('--momentum', type=float, default=0.9)\n",
    "parser.add_argument('--weight_decay', type=float, default=1e-4)\n",
    "parser.add_argument('--epochs', default=1000, type=int)\n",
    "parser.add_argument('--exp_root', type=str, default=exp_root)\n",
    "parser.add_argument('--transform', type=str, default='imagenet')\n",
    "parser.add_argument('--sup_weight', type=float, default=0.35)\n",
    "parser.add_argument('--n_views', default=2, type=int)\n",
    "\n",
    "parser.add_argument('--memax_weight', type=float, default=2)\n",
    "parser.add_argument('--warmup_teacher_temp', default=0.07, type=float, help='Initial value for the teacher temperature.')\n",
    "parser.add_argument('--teacher_temp', default=0.04, type=float, help='Final value (after linear warmup)of the teacher temperature.')\n",
    "parser.add_argument('--warmup_teacher_temp_epochs', default=30, type=int, help='Number of warmup epochs for the teacher temperature.')\n",
    "\n",
    "parser.add_argument('--fp16', action='store_true', default=False)\n",
    "parser.add_argument('--print_freq', default=10, type=int)\n",
    "parser.add_argument('--exp_name', default=None, type=str)\n",
    "\n",
    "args = parser.parse_args(args=[])\n",
    "device = torch.device('cpu')"
   ]
  },
  {
   "cell_type": "code",
   "execution_count": 3,
   "id": "d4a187d6",
   "metadata": {},
   "outputs": [],
   "source": [
    "\n",
    "# NOTE: Hardcoded image size as we do not finetune the entire ViT model\n",
    "args.image_size = 224\n",
    "args.feat_dim = 768\n",
    "args.num_mlp_layers = 3\n",
    "# args.mlp_out_dim = args.num_labeled_classes + args.num_unlabeled_classes\n",
    "# import ipdb; ipdb.set_trace()\n",
    "class_splits = load_class_splits(args.dataset_name)\n",
    "args.train_classes = class_splits['known_classes']\n",
    "args.mlp_out_dim = len(class_splits['known_classes']) \\\n",
    "                 + len(class_splits['unknown_classes']['Easy']) \\\n",
    "                 + len(class_splits['unknown_classes']['Medium']) \\\n",
    "                 + len(class_splits['unknown_classes']['Hard'])\n"
   ]
  },
  {
   "cell_type": "code",
   "execution_count": 12,
   "id": "699363d5",
   "metadata": {},
   "outputs": [],
   "source": [
    "train_transform, test_transform = get_transform(args.transform, image_size=args.image_size, args=args)\n",
    "train_transform = ContrastiveLearningViewGenerator(base_transform=train_transform, n_views=args.n_views)\n",
    "# --------------------\n",
    "# DATASETS\n",
    "# --------------------\n",
    "train_dataset, test_dataset, unlabelled_train_examples_test, datasets = get_gcd_datasets(args.dataset_name, \n",
    "                                                                                        train_transform,\n",
    "                                                                                        test_transform,)\n",
    "\n",
    "# --------------------\n",
    "# SAMPLER\n",
    "# Sampler which balances labelled and unlabelled examples in each batch\n",
    "# --------------------\n",
    "label_len = len(train_dataset.labelled_dataset)\n",
    "unlabelled_len = len(train_dataset.unlabelled_dataset)\n",
    "sample_weights = [1 if i < label_len else label_len / unlabelled_len for i in range(len(train_dataset))]\n",
    "sample_weights = torch.DoubleTensor(sample_weights)\n",
    "sampler = torch.utils.data.WeightedRandomSampler(sample_weights, num_samples=len(train_dataset))\n",
    "\n",
    "train_loader = DataLoader(train_dataset, num_workers=args.num_workers, batch_size=args.batch_size, shuffle=False,\n",
    "                              sampler=sampler, drop_last=True, pin_memory=True)"
   ]
  },
  {
   "cell_type": "code",
   "execution_count": 53,
   "id": "001a57e2",
   "metadata": {},
   "outputs": [],
   "source": [
    "classes_trainset = []\n",
    "\n",
    "for batch in train_loader:\n",
    "    images, class_labels, uq_idxs, mask_lab = batch\n",
    "    classes_trainset += list(class_labels.cpu().numpy())"
   ]
  },
  {
   "cell_type": "code",
   "execution_count": 60,
   "id": "1079d9df",
   "metadata": {},
   "outputs": [
    {
     "name": "stdout",
     "output_type": "stream",
     "text": [
      "train set 의 클래스 셋 196\n"
     ]
    }
   ],
   "source": [
    "# len(classes_trainset), \n",
    "\n",
    "print(\"train set 의 클래스 셋 : \", len(np.unique(classes_trainset)))"
   ]
  },
  {
   "cell_type": "code",
   "execution_count": 59,
   "id": "e6f8b0b8",
   "metadata": {},
   "outputs": [
    {
     "data": {
      "text/plain": [
       "196"
      ]
     },
     "execution_count": 59,
     "metadata": {},
     "output_type": "execute_result"
    }
   ],
   "source": []
  },
  {
   "cell_type": "code",
   "execution_count": null,
   "id": "4729a1fe",
   "metadata": {},
   "outputs": [],
   "source": []
  },
  {
   "cell_type": "code",
   "execution_count": null,
   "id": "10cef3e0",
   "metadata": {},
   "outputs": [],
   "source": []
  },
  {
   "cell_type": "code",
   "execution_count": 47,
   "id": "67ea6a01",
   "metadata": {},
   "outputs": [
    {
     "data": {
      "text/plain": [
       "(torch.Size([128, 3, 224, 224]), torch.Size([128, 3, 224, 224]))"
      ]
     },
     "execution_count": 47,
     "metadata": {},
     "output_type": "execute_result"
    }
   ],
   "source": [
    "images[0].shape, images[1].shape"
   ]
  },
  {
   "cell_type": "code",
   "execution_count": null,
   "id": "9480e224",
   "metadata": {},
   "outputs": [],
   "source": []
  },
  {
   "cell_type": "code",
   "execution_count": 19,
   "id": "5cb31685",
   "metadata": {},
   "outputs": [],
   "source": []
  },
  {
   "cell_type": "code",
   "execution_count": 35,
   "id": "ea03fcef",
   "metadata": {},
   "outputs": [],
   "source": [
    "import matplotlib.pyplot as plt\n",
    "\n",
    "x = images[0][0].cpu().numpy()\n",
    "x_p = images[0][0].cpu().numpy()\n",
    "x = x.reshape(224, 224, 3)\n",
    "x_p = x_p.reshape(224, 224, 3)"
   ]
  },
  {
   "cell_type": "code",
   "execution_count": 39,
   "id": "c3b287e4",
   "metadata": {},
   "outputs": [],
   "source": []
  },
  {
   "cell_type": "code",
   "execution_count": 41,
   "id": "fd772b5c",
   "metadata": {},
   "outputs": [],
   "source": []
  },
  {
   "cell_type": "code",
   "execution_count": 25,
   "id": "601f11a1",
   "metadata": {},
   "outputs": [
    {
     "data": {
      "text/plain": [
       "(torch.Size([128, 3, 224, 224]), torch.Size([128, 3, 224, 224]))"
      ]
     },
     "execution_count": 25,
     "metadata": {},
     "output_type": "execute_result"
    }
   ],
   "source": [
    "images[0].shape, images[1].shape"
   ]
  },
  {
   "cell_type": "code",
   "execution_count": 32,
   "id": "680d8cd4",
   "metadata": {},
   "outputs": [
    {
     "data": {
      "text/plain": [
       "tensor([[0],\n",
       "        [0],\n",
       "        [1],\n",
       "        [0],\n",
       "        [0],\n",
       "        [1],\n",
       "        [0],\n",
       "        [1],\n",
       "        [0],\n",
       "        [0],\n",
       "        [1],\n",
       "        [0],\n",
       "        [0],\n",
       "        [0],\n",
       "        [0],\n",
       "        [1],\n",
       "        [1],\n",
       "        [1],\n",
       "        [0],\n",
       "        [1],\n",
       "        [1],\n",
       "        [0],\n",
       "        [0],\n",
       "        [0],\n",
       "        [0],\n",
       "        [0],\n",
       "        [1],\n",
       "        [0],\n",
       "        [1],\n",
       "        [0],\n",
       "        [1],\n",
       "        [0],\n",
       "        [1],\n",
       "        [1],\n",
       "        [1],\n",
       "        [0],\n",
       "        [0],\n",
       "        [1],\n",
       "        [0],\n",
       "        [1],\n",
       "        [0],\n",
       "        [0],\n",
       "        [0],\n",
       "        [0],\n",
       "        [1],\n",
       "        [1],\n",
       "        [0],\n",
       "        [0],\n",
       "        [1],\n",
       "        [1],\n",
       "        [0],\n",
       "        [0],\n",
       "        [1],\n",
       "        [1],\n",
       "        [1],\n",
       "        [0],\n",
       "        [1],\n",
       "        [0],\n",
       "        [0],\n",
       "        [1],\n",
       "        [0],\n",
       "        [1],\n",
       "        [1],\n",
       "        [0],\n",
       "        [0],\n",
       "        [1],\n",
       "        [0],\n",
       "        [0],\n",
       "        [1],\n",
       "        [1],\n",
       "        [0],\n",
       "        [1],\n",
       "        [0],\n",
       "        [0],\n",
       "        [1],\n",
       "        [1],\n",
       "        [1],\n",
       "        [0],\n",
       "        [1],\n",
       "        [0],\n",
       "        [1],\n",
       "        [0],\n",
       "        [1],\n",
       "        [1],\n",
       "        [0],\n",
       "        [0],\n",
       "        [0],\n",
       "        [0],\n",
       "        [1],\n",
       "        [0],\n",
       "        [1],\n",
       "        [0],\n",
       "        [1],\n",
       "        [0],\n",
       "        [0],\n",
       "        [1],\n",
       "        [1],\n",
       "        [0],\n",
       "        [1],\n",
       "        [1],\n",
       "        [0],\n",
       "        [1],\n",
       "        [1],\n",
       "        [1],\n",
       "        [1],\n",
       "        [1],\n",
       "        [1],\n",
       "        [1],\n",
       "        [0],\n",
       "        [0],\n",
       "        [1],\n",
       "        [1],\n",
       "        [1],\n",
       "        [1],\n",
       "        [0],\n",
       "        [1],\n",
       "        [1],\n",
       "        [1],\n",
       "        [1],\n",
       "        [0],\n",
       "        [0],\n",
       "        [1],\n",
       "        [1],\n",
       "        [0],\n",
       "        [1],\n",
       "        [1],\n",
       "        [0],\n",
       "        [1]])"
      ]
     },
     "execution_count": 32,
     "metadata": {},
     "output_type": "execute_result"
    }
   ],
   "source": [
    "mask_lab"
   ]
  },
  {
   "cell_type": "code",
   "execution_count": null,
   "id": "95eb9676",
   "metadata": {},
   "outputs": [],
   "source": []
  },
  {
   "cell_type": "code",
   "execution_count": 31,
   "id": "fdd60ec1",
   "metadata": {},
   "outputs": [
    {
     "data": {
      "text/plain": [
       "tensor([ 269, 6396,  113,  535, 5873, 7278, 3324,  390, 6575, 1020, 6719, 7296,\n",
       "        3216, 7877,  828, 7379, 5619,  321, 7617, 6481, 4319, 6811, 1293, 4823,\n",
       "        7011, 5105, 1742, 4929, 6601, 6631, 6179, 4943, 5760, 5097, 7162, 1867,\n",
       "        4659,  292, 5938, 6908, 3967, 7159, 6998, 4796, 7692, 1129, 5413, 2390,\n",
       "        2069, 4062, 1050,  998, 8122, 3787, 4300, 4774, 3437, 5574, 5020, 2060,\n",
       "        4196, 5195, 7323, 5047, 7157, 6981, 2353, 1299,  137, 5744, 3156, 3347,\n",
       "        3804,  366, 5660, 6173, 4287, 3622, 2047, 3506, 1823, 4389, 5087,  713,\n",
       "        4793, 3744, 6662, 7529, 7115, 2462,  329, 5933, 6731, 2631, 1161, 6923,\n",
       "        5868, 3237, 7492, 8110, 3806,   18, 1270, 6564,   17, 5512, 7327, 4239,\n",
       "        5412, 4787, 7736, 7048, 1724, 4128,  807, 7668, 1722,  104, 7868, 6821,\n",
       "        3996, 5613,  164,  547, 7049, 4133, 7221, 7095])"
      ]
     },
     "execution_count": 31,
     "metadata": {},
     "output_type": "execute_result"
    }
   ],
   "source": [
    "uq_idxs"
   ]
  },
  {
   "cell_type": "code",
   "execution_count": 30,
   "id": "d4186c7a",
   "metadata": {},
   "outputs": [
    {
     "data": {
      "text/plain": [
       "array([122,  28,   0, 123,  51,  37, 166,  78,  61, 126,  32,  68, 169,\n",
       "        73, 128,  89,  14,  77, 119,  58,  48,  31, 133, 183,  36,  49,\n",
       "         3, 188,  61,  29,  22, 188,  13,  49,  66, 112, 185,  77,  53,\n",
       "        63, 172,  66,  36, 179,  72,  82,  50, 113,   5,  86,  81, 126,\n",
       "        75,  94,  48, 179,  93, 193,  11,   5, 116,  12,  68, 189,  66,\n",
       "        36, 146, 133,  76,  13,   7,  46, 173, 106,  18,  22,  48,  85,\n",
       "         5, 177,  83, 182,  49,  91, 179, 101,  30,  70,  65, 160,  77,\n",
       "        53,  32, 162, 111,  64,  51, 169,  39,  75, 173,  45,   2,  60,\n",
       "        45,  19,  68,   9,  50, 179,  41,  34,  92,  87, 109,  71,  92,\n",
       "         0,  73,  31, 172,  14,  76, 123,  34,  87,  67,  65])"
      ]
     },
     "execution_count": 30,
     "metadata": {},
     "output_type": "execute_result"
    }
   ],
   "source": [
    "class_labels.cpu().numpy()"
   ]
  },
  {
   "cell_type": "code",
   "execution_count": null,
   "id": "eec590b8",
   "metadata": {},
   "outputs": [],
   "source": []
  },
  {
   "cell_type": "code",
   "execution_count": 10,
   "id": "9d681cf6",
   "metadata": {},
   "outputs": [
    {
     "data": {
      "text/plain": [
       "196"
      ]
     },
     "execution_count": 10,
     "metadata": {},
     "output_type": "execute_result"
    }
   ],
   "source": [
    "args.mlp_out_dim"
   ]
  },
  {
   "cell_type": "code",
   "execution_count": 9,
   "id": "6ae17b41",
   "metadata": {},
   "outputs": [
    {
     "data": {
      "text/plain": [
       "8144"
      ]
     },
     "execution_count": 9,
     "metadata": {},
     "output_type": "execute_result"
    }
   ],
   "source": [
    "len(train_dataset)"
   ]
  },
  {
   "cell_type": "code",
   "execution_count": null,
   "id": "2c17958d",
   "metadata": {},
   "outputs": [],
   "source": []
  },
  {
   "cell_type": "code",
   "execution_count": null,
   "id": "2e055d2d",
   "metadata": {},
   "outputs": [],
   "source": []
  },
  {
   "cell_type": "code",
   "execution_count": null,
   "id": "a2bb71c7",
   "metadata": {},
   "outputs": [],
   "source": []
  },
  {
   "cell_type": "code",
   "execution_count": null,
   "id": "45cffdfd",
   "metadata": {},
   "outputs": [],
   "source": []
  },
  {
   "cell_type": "code",
   "execution_count": null,
   "id": "1cc68f8e",
   "metadata": {},
   "outputs": [],
   "source": []
  },
  {
   "cell_type": "markdown",
   "id": "5a86fc27",
   "metadata": {},
   "source": [
    "#### Model spec"
   ]
  },
  {
   "cell_type": "code",
   "execution_count": 4,
   "id": "e5900570",
   "metadata": {},
   "outputs": [
    {
     "name": "stderr",
     "output_type": "stream",
     "text": [
      "Using cache found in /root/.cache/torch/hub/facebookresearch_dino_main\n"
     ]
    }
   ],
   "source": [
    "args.interpolation = 3\n",
    "args.crop_pct = 0.875\n",
    "\n",
    "backbone = torch.hub.load('facebookresearch/dino:main', 'dino_vitb16')\n",
    "# backbone = torch.hub.load('facebookresearch/dino:main', 'dino_vitb8')\n",
    "        # protobuf                 4.24.2 =>  3.20.0\n",
    "# backbone = torch.hub.load('facebookresearch/dinov2', 'dinov2_vitb14')\n",
    "# backbone = torch.hub.load('facebookresearch/dinov2', 'dinov2_vitl14')# https://github.com/facebookresearch/dinov2/blob/main/MODEL_CARD.md\n",
    "\n",
    "if args.warmup_model_dir is not None:\n",
    "    args.logger.info(f'Loading weights from {args.warmup_model_dir}')\n",
    "    backbone.load_state_dict(torch.load(args.warmup_model_dir, map_location='cpu'))\n",
    "\n",
    "# NOTE: Hardcoded image size as we do not finetune the entire ViT model\n",
    "args.image_size = 224\n",
    "args.feat_dim = 768\n",
    "args.num_mlp_layers = 3\n",
    "# args.mlp_out_dim = args.num_labeled_classes + args.num_unlabeled_classes\n",
    "# import ipdb; ipdb.set_trace()\n",
    "class_splits = load_class_splits(args.dataset_name)\n",
    "args.train_classes = class_splits['known_classes']\n",
    "args.mlp_out_dim = len(class_splits['known_classes']) \\\n",
    "                 + len(class_splits['unknown_classes']['Easy']) \\\n",
    "                 + len(class_splits['unknown_classes']['Medium']) \\\n",
    "                 + len(class_splits['unknown_classes']['Hard'])\n",
    "\n",
    "# ----------------------\n",
    "# HOW MUCH OF BASE MODEL TO FINETUNE\n",
    "\n",
    "# ----------------------\n",
    "for m in backbone.parameters():\n",
    "    m.requires_grad = False\n",
    "\n",
    "# Only finetune layers from block 'args.grad_from_block' onwards\n",
    "for name, m in backbone.named_parameters():\n",
    "    if 'block' in name:\n",
    "        block_num = int(name.split('.')[1])\n",
    "        if block_num >= args.grad_from_block: #gardient from block 보다 노드가 많으면 학습해야 한단 거가? \n",
    "            m.requires_grad = True\n"
   ]
  },
  {
   "cell_type": "code",
   "execution_count": null,
   "id": "df83aa65",
   "metadata": {},
   "outputs": [],
   "source": []
  }
 ],
 "metadata": {
  "kernelspec": {
   "display_name": "Python 3 (ipykernel)",
   "language": "python",
   "name": "python3"
  },
  "language_info": {
   "codemirror_mode": {
    "name": "ipython",
    "version": 3
   },
   "file_extension": ".py",
   "mimetype": "text/x-python",
   "name": "python",
   "nbconvert_exporter": "python",
   "pygments_lexer": "ipython3",
   "version": "3.10.4"
  }
 },
 "nbformat": 4,
 "nbformat_minor": 5
}
